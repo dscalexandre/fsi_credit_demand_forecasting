{
 "cells": [
  {
   "cell_type": "markdown",
   "metadata": {},
   "source": [
    "## <font color='limegreen'>HIRING DEMAND FORECASTING</font>\n",
    "### <font color='limegreen'>I - DATA ANALYSIS</font>"
   ]
  },
  {
   "cell_type": "markdown",
   "metadata": {},
   "source": [
    "Data Source: Synthetic data created exclusively for this project."
   ]
  },
  {
   "cell_type": "code",
   "execution_count": 1,
   "metadata": {},
   "outputs": [
    {
     "name": "stdout",
     "output_type": "stream",
     "text": [
      "The python version used in this jupyter notebook: 3.13.5\n"
     ]
    }
   ],
   "source": [
    "# Python Language Version\n",
    "from platform import python_version\n",
    "print('The python version used in this jupyter notebook:', python_version())"
   ]
  },
  {
   "cell_type": "code",
   "execution_count": 2,
   "metadata": {},
   "outputs": [
    {
     "name": "stdout",
     "output_type": "stream",
     "text": [
      "C:\\Users\\Alexandre\\anaconda3\\python.exe\n"
     ]
    }
   ],
   "source": [
    "# Jupyter execution path\n",
    "import sys\n",
    "print(sys.executable)"
   ]
  },
  {
   "cell_type": "markdown",
   "metadata": {},
   "source": [
    "### 1. LOAD PACKAGES"
   ]
  },
  {
   "cell_type": "markdown",
   "metadata": {},
   "source": [
    "#### Import packages"
   ]
  },
  {
   "cell_type": "code",
   "execution_count": 3,
   "metadata": {},
   "outputs": [],
   "source": [
    "%%capture output\n",
    "!pip install -q -r requirements.txt"
   ]
  },
  {
   "cell_type": "code",
   "execution_count": 4,
   "metadata": {},
   "outputs": [
    {
     "name": "stdout",
     "output_type": "stream",
     "text": [
      "Requirement already satisfied: pymannkendall in c:\\users\\alexandre\\anaconda3\\lib\\site-packages (1.4.3)\n",
      "Requirement already satisfied: numpy in c:\\users\\alexandre\\anaconda3\\lib\\site-packages (from pymannkendall) (2.1.3)\n",
      "Requirement already satisfied: scipy in c:\\users\\alexandre\\anaconda3\\lib\\site-packages (from pymannkendall) (1.15.3)\n"
     ]
    }
   ],
   "source": [
    "!pip install pymannkendall"
   ]
  },
  {
   "cell_type": "markdown",
   "metadata": {},
   "source": [
    "#### Import functions"
   ]
  },
  {
   "cell_type": "code",
   "execution_count": 5,
   "metadata": {},
   "outputs": [
    {
     "ename": "ModuleNotFoundError",
     "evalue": "No module named 'torch'",
     "output_type": "error",
     "traceback": [
      "\u001b[1;31m---------------------------------------------------------------------------\u001b[0m",
      "\u001b[1;31mModuleNotFoundError\u001b[0m                       Traceback (most recent call last)",
      "Cell \u001b[1;32mIn[5], line 1\u001b[0m\n\u001b[1;32m----> 1\u001b[0m \u001b[38;5;28;01mfrom\u001b[39;00m\u001b[38;5;250m \u001b[39m\u001b[38;5;21;01mutils\u001b[39;00m\u001b[38;5;250m \u001b[39m\u001b[38;5;28;01mimport\u001b[39;00m \u001b[38;5;241m*\u001b[39m\n",
      "File \u001b[1;32m~\\OneDrive\\Documentos\\profissional\\1.projetos_publicados\\fsi_credit_demand_forecasting\\notebooks\\utils.py:20\u001b[0m\n\u001b[0;32m     18\u001b[0m \u001b[38;5;28;01mimport\u001b[39;00m\u001b[38;5;250m \u001b[39m\u001b[38;5;21;01mstatsmodels\u001b[39;00m\u001b[38;5;21;01m.\u001b[39;00m\u001b[38;5;21;01mapi\u001b[39;00m\u001b[38;5;250m \u001b[39m\u001b[38;5;28;01mas\u001b[39;00m\u001b[38;5;250m \u001b[39m\u001b[38;5;21;01msm\u001b[39;00m\n\u001b[0;32m     19\u001b[0m \u001b[38;5;28;01mfrom\u001b[39;00m\u001b[38;5;250m \u001b[39m\u001b[38;5;21;01mstatsmodels\u001b[39;00m\u001b[38;5;21;01m.\u001b[39;00m\u001b[38;5;21;01mtsa\u001b[39;00m\u001b[38;5;21;01m.\u001b[39;00m\u001b[38;5;21;01mstatespace\u001b[39;00m\u001b[38;5;21;01m.\u001b[39;00m\u001b[38;5;21;01msarimax\u001b[39;00m\u001b[38;5;250m \u001b[39m\u001b[38;5;28;01mimport\u001b[39;00m SARIMAX  \n\u001b[1;32m---> 20\u001b[0m \u001b[38;5;28;01mimport\u001b[39;00m\u001b[38;5;250m \u001b[39m\u001b[38;5;21;01mtorch\u001b[39;00m\n\u001b[0;32m     21\u001b[0m \u001b[38;5;28;01mimport\u001b[39;00m\u001b[38;5;250m \u001b[39m\u001b[38;5;21;01mtorch\u001b[39;00m\u001b[38;5;21;01m.\u001b[39;00m\u001b[38;5;21;01mnn\u001b[39;00m\u001b[38;5;250m \u001b[39m\u001b[38;5;28;01mas\u001b[39;00m\u001b[38;5;250m \u001b[39m\u001b[38;5;21;01mnn\u001b[39;00m \n\u001b[0;32m     22\u001b[0m \u001b[38;5;28;01mimport\u001b[39;00m\u001b[38;5;250m \u001b[39m\u001b[38;5;21;01mtensorflow\u001b[39;00m\u001b[38;5;250m \u001b[39m\u001b[38;5;28;01mas\u001b[39;00m\u001b[38;5;250m \u001b[39m\u001b[38;5;21;01mtf\u001b[39;00m\n",
      "\u001b[1;31mModuleNotFoundError\u001b[0m: No module named 'torch'"
     ]
    }
   ],
   "source": [
    "from utils import *"
   ]
  },
  {
   "cell_type": "code",
   "execution_count": null,
   "metadata": {},
   "outputs": [],
   "source": [
    "from utils import normality_shapiro, identify_nulls, analyze_trend, bds_test_acf, evaluate_skewness, breusch_pagan_test, test_ljung_box"
   ]
  },
  {
   "cell_type": "code",
   "execution_count": null,
   "metadata": {},
   "outputs": [],
   "source": [
    "# Record package versions\n",
    "# !pip install -q -U watermark"
   ]
  },
  {
   "cell_type": "code",
   "execution_count": null,
   "metadata": {},
   "outputs": [],
   "source": [
    "# Packages versions\n",
    "%reload_ext watermark\n",
    "%watermark --iversions"
   ]
  },
  {
   "cell_type": "markdown",
   "metadata": {},
   "source": [
    "### 2. LOAD DATA"
   ]
  },
  {
   "cell_type": "code",
   "execution_count": null,
   "metadata": {},
   "outputs": [],
   "source": [
    "# Load original\n",
    "df_origin = pd.read_csv('../data/contratacoes_data.csv')"
   ]
  },
  {
   "cell_type": "code",
   "execution_count": null,
   "metadata": {},
   "outputs": [],
   "source": [
    "# Original data copy\n",
    "df = df_origin.copy()"
   ]
  },
  {
   "cell_type": "markdown",
   "metadata": {},
   "source": [
    "### 3. UNDERSTANDE AND PROCESS DATA"
   ]
  },
  {
   "cell_type": "code",
   "execution_count": null,
   "metadata": {},
   "outputs": [],
   "source": [
    "df.head()"
   ]
  },
  {
   "cell_type": "code",
   "execution_count": null,
   "metadata": {},
   "outputs": [],
   "source": [
    "df.tail()"
   ]
  },
  {
   "cell_type": "code",
   "execution_count": null,
   "metadata": {},
   "outputs": [],
   "source": [
    "df.shape"
   ]
  },
  {
   "cell_type": "code",
   "execution_count": null,
   "metadata": {},
   "outputs": [],
   "source": [
    "df.info()"
   ]
  },
  {
   "cell_type": "code",
   "execution_count": null,
   "metadata": {},
   "outputs": [],
   "source": [
    "df.columns"
   ]
  },
  {
   "cell_type": "code",
   "execution_count": null,
   "metadata": {},
   "outputs": [],
   "source": [
    "# Dicitionary of variables\n",
    "dic01 = {\n",
    "    \"data\": \"Data da contratacao.\",\n",
    "    \"total_contratacoes\": \"Número de empréstimos pessoais efetivados.\",}"
   ]
  },
  {
   "cell_type": "code",
   "execution_count": null,
   "metadata": {},
   "outputs": [],
   "source": [
    "# Time series period\n",
    "print(f\"Time series period: {df['data'].min()} to {df['data'].max()}\")"
   ]
  },
  {
   "cell_type": "code",
   "execution_count": null,
   "metadata": {},
   "outputs": [],
   "source": [
    "# Convert 'data' variable to datetime and index\n",
    "df['data'] = pd.to_datetime(df['data'], format='%Y-%m-%d')\n",
    "df = df.set_index('data').asfreq('D')"
   ]
  },
  {
   "cell_type": "code",
   "execution_count": null,
   "metadata": {},
   "outputs": [],
   "source": [
    "# Total null values\n",
    "df.isnull().sum().sum()"
   ]
  },
  {
   "cell_type": "code",
   "execution_count": null,
   "metadata": {},
   "outputs": [],
   "source": [
    "# Percentage of null values\n",
    "(df.isnull().mean() * 100).round(2)"
   ]
  },
  {
   "cell_type": "markdown",
   "metadata": {},
   "source": [
    "### 4. EXPLORATORY ANALYSIS"
   ]
  },
  {
   "cell_type": "code",
   "execution_count": null,
   "metadata": {},
   "outputs": [],
   "source": [
    "# View time series\n",
    "fig1 = px.line(df, x=df.index, y='contratacoes', title='Série Temporal', \n",
    "               width=1000, height=400)\n",
    "fig1.show()"
   ]
  },
  {
   "cell_type": "markdown",
   "metadata": {},
   "source": [
    "`Análise Técnica` \n",
    "\n",
    "A série apresenta indícios de sazonalidade mensal e tendência crescente, tornando essencial uma análise mais detalhada para identificar padrões recorrentes ao longo do tempo."
   ]
  },
  {
   "cell_type": "code",
   "execution_count": null,
   "metadata": {},
   "outputs": [],
   "source": [
    "# Distribution of the variable\n",
    "fig2 = px.histogram(df, x='contratacoes', nbins=30, \n",
    "                   title='Distribuição da Variável', \n",
    "                   labels={'contratacoes'}, \n",
    "                   width=800, height=400)\n",
    "fig2.show()"
   ]
  },
  {
   "cell_type": "markdown",
   "metadata": {},
   "source": [
    "`Análise Técnica`\n",
    "\n",
    "Apesar da presença de valores nulos, a análise da distribuição é fundamental para identificar a assimetria da variável, fornecendo insights valiosos para orientar a escolha do tratamento mais adequado tanto para os valores nulos quanto para possíveis outliers. Nesse contexto, observa-se uma cauda alongada à direita, caracterizando uma assimetria positiva, na qual a média é significativamente maior que a mediana. Essa característica sugere a presença de valores extremos ou outliers que influenciam a média, reforçando a importância de adotar estratégias robustas, como o uso da mediana ou transformações nos dados, para garantir a precisão das análises."
   ]
  },
  {
   "cell_type": "code",
   "execution_count": null,
   "metadata": {},
   "outputs": [],
   "source": [
    "df.describe()"
   ]
  },
  {
   "cell_type": "code",
   "execution_count": null,
   "metadata": {},
   "outputs": [],
   "source": [
    "# Function to check normality\n",
    "normality_shapiro(df, 'contratacoes')"
   ]
  },
  {
   "cell_type": "markdown",
   "metadata": {},
   "source": [
    "`Análise Técnica`\n",
    "- A saída 'nan' indique que a função detectou que não conseguiu calcular o teste corretamente.\n",
    "\n",
    "O p-valor é nan geralmente acontece quando há:\n",
    "- Muitos valores ausentes na variável.\n",
    "- Poucos dados válidos para o teste estatístico (normalmente precisa de pelo menos 8 pontos de dados).\n",
    "- Valores constantes (sem variação), o que impossibilita o cálculo das estatísticas."
   ]
  },
  {
   "cell_type": "markdown",
   "metadata": {},
   "source": [
    "#### 4.1. CHECK OUTLIERS"
   ]
  },
  {
   "cell_type": "code",
   "execution_count": null,
   "metadata": {},
   "outputs": [],
   "source": [
    "# Boxplot outliers values\n",
    "fig3 = px.box(df, y='contratacoes', title='Boxplot', \n",
    "              labels={'contratacoes'}, width=500, height=400)\n",
    "fig3.show()"
   ]
  },
  {
   "cell_type": "code",
   "execution_count": null,
   "metadata": {},
   "outputs": [],
   "source": [
    "# Calculate the IQR \n",
    "Q1 = df[['contratacoes']].quantile(0.25)\n",
    "Q3 = df[['contratacoes']].quantile(0.75)\n",
    "IQR = Q3 - Q1"
   ]
  },
  {
   "cell_type": "code",
   "execution_count": null,
   "metadata": {},
   "outputs": [],
   "source": [
    "# Limits of the variable\n",
    "lower_bound = Q1 - 1.5 * IQR\n",
    "upper_bound = Q3 + 1.5 * IQR"
   ]
  },
  {
   "cell_type": "code",
   "execution_count": null,
   "metadata": {},
   "outputs": [],
   "source": [
    "# Identify outliers \n",
    "outliers = (df['contratacoes'] < lower_bound['contratacoes']) | (df['contratacoes'] > upper_bound['contratacoes'])"
   ]
  },
  {
   "cell_type": "code",
   "execution_count": null,
   "metadata": {},
   "outputs": [],
   "source": [
    "# Total outliers\n",
    "outliers_count = outliers.sum()\n",
    "print(f\"Number of outliers: {outliers_count}\")"
   ]
  },
  {
   "cell_type": "code",
   "execution_count": null,
   "metadata": {},
   "outputs": [],
   "source": [
    "# DataFrame with only outliers\n",
    "df_outliers = df[outliers]"
   ]
  },
  {
   "cell_type": "code",
   "execution_count": null,
   "metadata": {},
   "outputs": [],
   "source": [
    "df_outliers.head()"
   ]
  },
  {
   "cell_type": "markdown",
   "metadata": {},
   "source": [
    "#### 4.2. NULL VALUE HANDLING"
   ]
  },
  {
   "cell_type": "code",
   "execution_count": null,
   "metadata": {},
   "outputs": [],
   "source": [
    "# Null values\n",
    "df.isnull().sum()"
   ]
  },
  {
   "cell_type": "code",
   "execution_count": null,
   "metadata": {},
   "outputs": [],
   "source": [
    "# Estatistics numerical variables\n",
    "df.describe()"
   ]
  },
  {
   "cell_type": "code",
   "execution_count": null,
   "metadata": {},
   "outputs": [],
   "source": [
    "# Function to identifies null values\n",
    "df_copy, count = identify_nulls(df, 'contratacoes')\n",
    "print(count)"
   ]
  },
  {
   "cell_type": "markdown",
   "metadata": {},
   "source": [
    "`Decisão Técnica`\n",
    "\n",
    "Vamos utlizar a Interpolação Temporal para preencher os nulos isolados e a Média Móvel Ajustada para suavizar os nulos consecutivos, mantendo a tendência e sazonalidade dos dados."
   ]
  },
  {
   "cell_type": "code",
   "execution_count": null,
   "metadata": {},
   "outputs": [],
   "source": [
    "# Temporal interpolation for isolated nulls\n",
    "df_copy.loc[df_copy['isolated_null'], 'contratacoes'] = df_copy['contratacoes'].interpolate(method='time')"
   ]
  },
  {
   "cell_type": "markdown",
   "metadata": {},
   "source": [
    "`Justificativa Técnica`\n",
    "\n",
    "O uso da **Interpolação Temporal** preserva padrões sazonais, sem criar tendências artificiais e mantém a continuidade da série sem alterar a tendência."
   ]
  },
  {
   "cell_type": "code",
   "execution_count": null,
   "metadata": {},
   "outputs": [],
   "source": [
    "# Check for nulls after interpolation\n",
    "print(df_copy.isnull().sum())"
   ]
  },
  {
   "cell_type": "code",
   "execution_count": null,
   "metadata": {},
   "outputs": [],
   "source": [
    "# Adjusted Moving Average for short blocks\n",
    "df_copy.loc[df_copy['consecutive_null'], 'contratacoes'] = df_copy['contratacoes'].fillna(\n",
    "    df_copy['contratacoes'].rolling(window=7, min_periods=1, center=True).mean())"
   ]
  },
  {
   "cell_type": "markdown",
   "metadata": {},
   "source": [
    "`Justificativa Técnica`\n",
    "\n",
    "O uso da **Média Móvel Ajustada** reduz o impacto de outliers, suaviza variações sem perder a sequência da série e funciona bem para períodos curtos de dados ausentes."
   ]
  },
  {
   "cell_type": "code",
   "execution_count": null,
   "metadata": {},
   "outputs": [],
   "source": [
    "# Check the nulls after interpolation\n",
    "print(df_copy.isnull().sum())"
   ]
  },
  {
   "cell_type": "code",
   "execution_count": null,
   "metadata": {},
   "outputs": [],
   "source": [
    "# Delete variables created for identify null values\n",
    "df_copy.drop(columns=['isolated_null', 'consecutive_null', 'long_null'], inplace=True)"
   ]
  },
  {
   "cell_type": "code",
   "execution_count": null,
   "metadata": {},
   "outputs": [],
   "source": [
    "df_copy.head()"
   ]
  },
  {
   "cell_type": "code",
   "execution_count": null,
   "metadata": {},
   "outputs": [],
   "source": [
    "# Descriptive Statistic\n",
    "df_copy.describe()"
   ]
  },
  {
   "cell_type": "markdown",
   "metadata": {},
   "source": [
    "`Análise Técnica`\n",
    "\n",
    "Os valores estão em uma faixa moderada, variando entre 39 e 491, indicando uma discrepância de escala gerenciável."
   ]
  },
  {
   "cell_type": "markdown",
   "metadata": {},
   "source": [
    "### 5. TIME SERIES ANALYSIS - I"
   ]
  },
  {
   "cell_type": "markdown",
   "metadata": {},
   "source": [
    "#### 5.1. DATA DISTRIBUTION"
   ]
  },
  {
   "cell_type": "code",
   "execution_count": null,
   "metadata": {},
   "outputs": [],
   "source": [
    "# Distribution of the variable \n",
    "fig4 = px.histogram(df_copy, x='contratacoes', nbins=30, \n",
    "                   title='Distribution of the Variable', \n",
    "                   labels={'contratacoes'}, \n",
    "                   width=800, height=400)\n",
    "fig4.show()"
   ]
  },
  {
   "cell_type": "code",
   "execution_count": null,
   "metadata": {},
   "outputs": [],
   "source": [
    "# Functions to check Normality\n",
    "normality_shapiro(df_copy, 'contratacoes')"
   ]
  },
  {
   "cell_type": "markdown",
   "metadata": {},
   "source": [
    "#### 5.2. SERIES VIEW"
   ]
  },
  {
   "cell_type": "code",
   "execution_count": null,
   "metadata": {},
   "outputs": [],
   "source": [
    "# View Series\n",
    "fig5 = px.line(df_copy, x=df_copy.index, y='contratacoes', title='TIME SERIES', \n",
    "               width=1000, height=400)\n",
    "fig5.update_layout(xaxis_title='data')\n",
    "fig5.show()"
   ]
  },
  {
   "cell_type": "markdown",
   "metadata": {},
   "source": [
    "#### 5.3. FIRST TREND ANALYSIS "
   ]
  },
  {
   "cell_type": "code",
   "execution_count": null,
   "metadata": {},
   "outputs": [],
   "source": [
    "# Function to check trend (Test Mann-Kendall)\n",
    "analyze_trend(df_copy['contratacoes'])"
   ]
  },
  {
   "cell_type": "markdown",
   "metadata": {},
   "source": [
    "#### 5.4. SECOND TREND ANALYSIS"
   ]
  },
  {
   "cell_type": "code",
   "execution_count": null,
   "metadata": {},
   "outputs": [],
   "source": [
    "# Time series Boxplot\n",
    "fig6 = px.box(df_copy, x=df_copy.index.year, y=\"contratacoes\", \n",
    "             title=\"Boxplot\",\n",
    "             labels={\"contratacoes\": \"contratacoes\", \"x\": \"Year\"},\n",
    "             template=\"plotly_white\", width=800, height=400)\n",
    "fig6.show()"
   ]
  },
  {
   "cell_type": "markdown",
   "metadata": {},
   "source": [
    "`Análise Técnica`\n",
    "\n",
    "- Presença de outliers já identificada na série.\n",
    "- O aumento da mediana ao longo dos anos confirma uma tendência ascendente.\n",
    "- As caixas possuem tamanhos diferentes indicando uma dispersão da variável em torno da mediana.\n",
    "- Um modelo considerando a sazonalidade pode funcionar bem para prever esta série."
   ]
  },
  {
   "cell_type": "markdown",
   "metadata": {},
   "source": [
    "#### 5.5. CHECK STATIONARITY"
   ]
  },
  {
   "cell_type": "markdown",
   "metadata": {},
   "source": [
    "**Teste de Dickey-Fuller**"
   ]
  },
  {
   "cell_type": "code",
   "execution_count": null,
   "metadata": {},
   "outputs": [],
   "source": [
    "# Function to check stationarity\n",
    "test_dickey_fuller(df_copy['contratacoes'])"
   ]
  },
  {
   "cell_type": "code",
   "execution_count": null,
   "metadata": {},
   "outputs": [],
   "source": [
    "# Save clean file\n",
    "file_path = os.path.join('..', 'data', 'clean_data.csv')\n",
    "df_copy.to_csv(file_path, index=True)\n",
    "print(f\"File saved successfully at: {file_path}, including the index!\")"
   ]
  },
  {
   "cell_type": "markdown",
   "metadata": {},
   "source": [
    "### 5.6. RESPONDENDO PERGUNTAS DE NEGÓCIO"
   ]
  },
  {
   "cell_type": "code",
   "execution_count": null,
   "metadata": {},
   "outputs": [],
   "source": [
    "# 1. Como as contratações variam ao longo dos meses?\n",
    "df_copy['month'] = df_copy.index.month\n",
    "monthly_avg = df_copy.groupby('month')['contratacoes'].mean().reset_index()\n",
    "\n",
    "fig7 = px.bar(monthly_avg, x='month', y='contratacoes', \n",
    "              labels={'month': 'Mês', 'contratacoes': 'Contratações'},\n",
    "              title='Média mensal de contratações (2020-2025)', \n",
    "              color='month', color_discrete_sequence=px.colors.qualitative.Set1, \n",
    "              width=800, height=400)\n",
    "fig7.show()"
   ]
  },
  {
   "cell_type": "code",
   "execution_count": null,
   "metadata": {
    "scrolled": true
   },
   "outputs": [],
   "source": [
    "# 2. Em que período do mês há maior volume de contratações? \n",
    "# Existem padrões intra-mensais que impactam a demanda?\n",
    "df_copy['day'] = df_copy.index.day\n",
    "daily_avg = df_copy.groupby('day')['contratacoes'].mean().reset_index()\n",
    "\n",
    "fig8 = px.line(daily_avg, x='day', y='contratacoes', \n",
    "               labels={'day': 'Dia do Mês', 'contratacoes': 'Contratações'},\n",
    "               title='Média diária de contratações por dia do mês (2020-2025)', markers=True,\n",
    "               width=900, height=300)\n",
    "fig8.show()"
   ]
  },
  {
   "cell_type": "markdown",
   "metadata": {},
   "source": [
    "`Análise Técnica`\n",
    "\n",
    "O período entre os dias 1º e 10 do mês concentra o maior volume de contratações."
   ]
  },
  {
   "cell_type": "code",
   "execution_count": null,
   "metadata": {},
   "outputs": [],
   "source": [
    "# 3. Quais são os períodos de menor demanda que representam oportunidades para investimentos em campanhas de marketing?\n",
    "\n",
    "# Identificar os dias com menor demanda (menores 25%)\n",
    "lower_demand_days = df_copy[df_copy['contratacoes'] <= df_copy['contratacoes'].quantile(0.25)].copy() # Use .copy() para evitar SettingWithCopyWarning\n",
    "\n",
    "# Agrupar os dias de baixa demanda por mês\n",
    "lower_demand_days['month'] = lower_demand_days.index.month\n",
    "demand_by_month = lower_demand_days.groupby('month')['contratacoes'].count().reset_index()\n",
    "\n",
    "# Plotar\n",
    "fig9 = px.bar(demand_by_month, x='month', y='contratacoes',\n",
    "                 labels={'month': 'Mês', 'contratacoes': 'Quantidade de dias de baixa demanda'},\n",
    "                 title='Número de dias de baixa demanda por mês (2020-2025)', color='month',\n",
    "                 color_discrete_sequence=px.colors.qualitative.Set1)\n",
    "fig9.show()"
   ]
  },
  {
   "cell_type": "markdown",
   "metadata": {},
   "source": [
    "`Análise Técnica`\n",
    "\n",
    "Os meses de dezembro, setembro, agosto, novembro e junho apresentam a menor demanda, destacando-se como oportunidades para investimentos em campanhas de marketing."
   ]
  },
  {
   "cell_type": "code",
   "execution_count": null,
   "metadata": {},
   "outputs": [],
   "source": [
    "# 4. Como as contratações evoluíram ao longo do tempo? A demanda está em crescimento, queda ou estabilidade?\n",
    "\n",
    "# Média móvel de 30 dias\n",
    "df_copy['rolling_mean'] = df_copy['contratacoes'].rolling(window=30).mean()\n",
    "\n",
    "# Gráfico de linhas\n",
    "fig10 = px.line(df_copy, x=df_copy.index, y=['contratacoes', 'rolling_mean'],\n",
    "              labels={'value': 'Contratações', 'variable': 'Legenda'},\n",
    "              title='Tendência Geral de Contratações (2020-2025)')\n",
    "\n",
    "# Atualizar nomes das linhas\n",
    "fig10.for_each_trace(lambda t: t.update(name='Média Móvel (30 dias)' if t.name == 'rolling_mean' else 'Contratações'))\n",
    "\n",
    "# Ajustar tamanho\n",
    "fig10.update_layout(width=1000, height=400)\n",
    "\n",
    "fig10.show()"
   ]
  },
  {
   "cell_type": "markdown",
   "metadata": {},
   "source": [
    "`Análise Técnica`\n",
    "\n",
    "A demanda apresenta uma sazonalidade mensal e uma  tendência consistente de crescimento ao longo dos anos, indicando um movimento positivo e sustentável."
   ]
  },
  {
   "cell_type": "code",
   "execution_count": null,
   "metadata": {},
   "outputs": [],
   "source": [
    "# 5. Há mais contratações nos dias de semana ou nos finais de semana?\n",
    "import plotly.graph_objects as go\n",
    "\n",
    "# Adicionar coluna com o dia da semana (0 = segunda, 6 = domingo)\n",
    "df_copy['weekday'] = df_copy.index.dayofweek\n",
    "\n",
    "# Calcular médias\n",
    "day_avg = df_copy.loc[df_copy['weekday'] < 5, 'contratacoes'].mean()\n",
    "weekend_avg = df_copy.loc[df_copy['weekday'] >= 5, 'contratacoes'].mean()\n",
    "\n",
    "# Criar gráfico com cores nomeadas\n",
    "fig11 = go.Figure(data=[\n",
    "    go.Bar(x=['Dias Úteis', 'Finais de Semana'], y=[day_avg, weekend_avg],\n",
    "           marker_color=['RoyalBlue', 'DarkOrange'])])\n",
    "\n",
    "# Layout\n",
    "fig11.update_layout(\n",
    "    title='Média de Contratações: Dias Úteis vs Finais de Semana',\n",
    "    yaxis_title='Contratações',\n",
    "    xaxis_title='Tipo de Dia',\n",
    "    width=800, height=400)\n",
    "\n",
    "fig11.show()"
   ]
  },
  {
   "cell_type": "markdown",
   "metadata": {},
   "source": [
    "`Análise Técnica`\n",
    "\n",
    "A análise revelou que, de forma consistente, os dias da semana registram uma demanda significativamente maior por contratações em comparação aos finais de semana."
   ]
  },
  {
   "cell_type": "code",
   "execution_count": null,
   "metadata": {},
   "outputs": [],
   "source": [
    "df_copy.head()"
   ]
  },
  {
   "cell_type": "code",
   "execution_count": null,
   "metadata": {},
   "outputs": [],
   "source": [
    "# Drop created variables that are not useful for the model\n",
    "df_copy = df_copy.drop(columns=['month', 'day', 'rolling_mean', 'weekday'])"
   ]
  },
  {
   "cell_type": "code",
   "execution_count": null,
   "metadata": {},
   "outputs": [],
   "source": [
    "df_copy.head()"
   ]
  },
  {
   "cell_type": "markdown",
   "metadata": {},
   "source": [
    "### 6. ANALYSIS FOR LOGARITHMIC TRANSFORMATION\n",
    "A checagem de necessidade da transformação logarítmica deve ocorrer antes de qualquer modelagem da série, pois decomposições (aditiva ou multiplicativa) e antes de testes de estacionaridade que podem ser afetados por variações não estabilizadas, resultando em conclusões equivocadas sobre tendências e sazonalidade. "
   ]
  },
  {
   "cell_type": "code",
   "execution_count": null,
   "metadata": {},
   "outputs": [],
   "source": [
    "# Apply Box-Cox to obtain the lambda value\n",
    "_, lambda_value = boxcox(df_copy['contratacoes'])\n",
    "\n",
    "# Determine the series behavior based on the lambda value\n",
    "if abs(lambda_value) < 0.1:  # Multiplicative behavior\n",
    "    print(f\"Ideal lambda: {lambda_value}. The series has MULTIPLICATIVE behavior.\")\n",
    "elif abs(lambda_value - 1) < 0.1:  # Additive behavior\n",
    "    print(f\"Ideal lambda: {lambda_value}. The series has ADDITIVE behavior.\")\n",
    "else:  # Intermediate behavior\n",
    "    print(f\"Ideal lambda: {lambda_value}. The series has INTERMEDIATE behavior.\")"
   ]
  },
  {
   "cell_type": "code",
   "execution_count": null,
   "metadata": {},
   "outputs": [],
   "source": [
    "# Function to check log transformation\n",
    "log_transformation(df_copy, 'contratacoes')"
   ]
  },
  {
   "cell_type": "markdown",
   "metadata": {},
   "source": [
    "`Análise Técnica`\n",
    "\n",
    "Como a série é estacionária, não há necessidade de decomposição temporal. Além disso, a transformação logarítmica não se faz necessária. Portanto, podemos prosseguir com a análise da série."
   ]
  },
  {
   "cell_type": "markdown",
   "metadata": {},
   "source": [
    "### 7. TIME SERIES ANALYSIS - II"
   ]
  },
  {
   "cell_type": "markdown",
   "metadata": {},
   "source": [
    "##### 7.1. CHECK LINEARITY"
   ]
  },
  {
   "cell_type": "code",
   "execution_count": null,
   "metadata": {},
   "outputs": [],
   "source": [
    "# Function to check linearity (Test BDS)\n",
    "result = bds_test_acf(df_copy['contratacoes'].dropna())\n",
    "print(result)"
   ]
  },
  {
   "cell_type": "markdown",
   "metadata": {},
   "source": [
    "##### 7.2. VCHECK SYMMETRY"
   ]
  },
  {
   "cell_type": "code",
   "execution_count": null,
   "metadata": {},
   "outputs": [],
   "source": [
    "# Function to check skewness\n",
    "result = evaluate_skewness(df_copy, column='contratacoes') \n",
    "print(f\"Skewness: {result['skewness']:.4f}\")\n",
    "print(f\"Interpretation: {result['interpretation']}\")"
   ]
  },
  {
   "cell_type": "markdown",
   "metadata": {},
   "source": [
    "##### 7.3. HETEROSCEDASTICITY\n",
    "O teste de Breusch-Pagan é um teste estatístico usado para verificar a presença de heterocedasticidade em um modelo de regressão. A heterocedasticidade ocorre quando a variância dos erros (resíduos) de um modelo não é constante ao longo dos valores das variáveis independentes, o que viola uma das premissas básicas dos modelos de regressão linear (homocedasticidade)."
   ]
  },
  {
   "cell_type": "code",
   "execution_count": null,
   "metadata": {},
   "outputs": [],
   "source": [
    "# Function to check heteroscedasticity\n",
    "result = breusch_pagan_test(df_copy, 'contratacoes')\n",
    "print(\"P-value:\", result['p_value'])\n",
    "print(\"Interpretation:\", result['interpretation'])"
   ]
  },
  {
   "cell_type": "markdown",
   "metadata": {},
   "source": [
    "##### 7.4. AUTOCORRELATION"
   ]
  },
  {
   "cell_type": "markdown",
   "metadata": {},
   "source": [
    "O teste de Ljung-Box verifica se há autocorrelação nos resíduos de um modelo de série temporal, ajudando a identificar se o modelo captura adequadamente as dependências temporais. Caso a hipótese de independência seja rejeitada, sugere-se a utilização de modelos estatísticos ou algoritmos de machine learning para melhorar a previsão."
   ]
  },
  {
   "cell_type": "code",
   "execution_count": null,
   "metadata": {},
   "outputs": [],
   "source": [
    "# Function to check autocorrelation (Ljung-Box Test)\n",
    "message, numerical_result = test_ljung_box(df_copy['contratacoes'].dropna())\n",
    "print(numerical_result)\n",
    "print(message)"
   ]
  },
  {
   "cell_type": "code",
   "execution_count": null,
   "metadata": {},
   "outputs": [],
   "source": [
    "df_copy.head()"
   ]
  },
  {
   "cell_type": "code",
   "execution_count": null,
   "metadata": {},
   "outputs": [],
   "source": [
    "df_copy.shape"
   ]
  },
  {
   "cell_type": "code",
   "execution_count": null,
   "metadata": {},
   "outputs": [],
   "source": [
    "df_copy.describe()"
   ]
  },
  {
   "cell_type": "markdown",
   "metadata": {},
   "source": [
    "`Resumo Técnico`\n",
    "\n",
    "A série temporal univariada abrange o período de 01/01/2020 a 28/02/2025, totalizando 1.886 registros. O conjunto de dados contém as variáveis 'data' (índice datetime) e 'contratacoes'. A série apresenta uma distribuição não normal, com assimetria à direita, padrões não lineares, e a presença de outliers. Apesar dessas características, a série é estacionária, homocedástica, exibindo sazonalidade, uma tendência de crescimento e correlação significativa.\n",
    "\n",
    "`Decisão Técnica`\n",
    "\n",
    "Com base nas características identificadas, a modelagem estatística será conduzida utilizando algoritmos cujos pressupostos estejam alinhados aos padrões observados. O objetivo é gerar previsões para os próximos seis meses, considerando a estrutura da série temporal e suas dinâmicas específicas."
   ]
  },
  {
   "cell_type": "markdown",
   "metadata": {},
   "source": [
    "#### POTENTIAL MODELS\n",
    "\n",
    "Com base nas características da série temporal (não linearidade, sazonalidade, homocedasticidade e outliers), os modelos indicados seriam:\n",
    "\n",
    "Modelagem Estística:\n",
    "- SARIMA: Indicado pela presença de sazonalidade e tendência, sendo capaz de capturar padrões autorregressivos, médias móveis e componentes sazonais.\n",
    "\n",
    "Machine Learning/Deep Learning:\n",
    "- LSTM e/ou GRU: Para capturar dependências temporais e padrões não lineares, especialmente se a série tiver dependências de longo prazo.\n"
   ]
  },
  {
   "cell_type": "markdown",
   "metadata": {},
   "source": [
    "### END OF DATA ANALYSIS\n",
    "Concluímos a análise da série temporal e os dados estão prontos para a Modelagem Estatística e/ou Machine Learning."
   ]
  }
 ],
 "metadata": {
  "kernelspec": {
   "display_name": "Python [conda env:base] *",
   "language": "python",
   "name": "conda-base-py"
  },
  "language_info": {
   "codemirror_mode": {
    "name": "ipython",
    "version": 3
   },
   "file_extension": ".py",
   "mimetype": "text/x-python",
   "name": "python",
   "nbconvert_exporter": "python",
   "pygments_lexer": "ipython3",
   "version": "3.13.5"
  }
 },
 "nbformat": 4,
 "nbformat_minor": 4
}
